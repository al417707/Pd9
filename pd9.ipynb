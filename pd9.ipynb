{
 "cells": [
  {
   "cell_type": "code",
   "execution_count": 23,
   "id": "0fbcd6fb",
   "metadata": {},
   "outputs": [],
   "source": [
    "import pandas as pd"
   ]
  },
  {
   "cell_type": "code",
   "execution_count": 24,
   "id": "1f06ba42",
   "metadata": {},
   "outputs": [],
   "source": [
    "dane = pd.read_csv('iris.csv')\n",
    "variety = dane.variety.unique()\n",
    "\n",
    "\n",
    "dane_p = dane[dane.variety == variety[0]]\n",
    "with pd.ExcelWriter('iris2.xlsx', engine = 'openpyxl') as writer: \n",
    "    dane_p.to_excel(writer, sheet_name= variety[0])\n",
    "\n",
    "for i in variety[1:]:\n",
    "    dane_p = dane[dane.variety == i]\n",
    "    with pd.ExcelWriter('iris2.xlsx', mode = 'a', engine = 'openpyxl') as writer:  \n",
    "        dane_p.to_excel(writer, sheet_name=i)\n"
   ]
  }
 ],
 "metadata": {
  "kernelspec": {
   "display_name": "Python 3 (ipykernel)",
   "language": "python",
   "name": "python3"
  },
  "language_info": {
   "codemirror_mode": {
    "name": "ipython",
    "version": 3
   },
   "file_extension": ".py",
   "mimetype": "text/x-python",
   "name": "python",
   "nbconvert_exporter": "python",
   "pygments_lexer": "ipython3",
   "version": "3.9.7"
  }
 },
 "nbformat": 4,
 "nbformat_minor": 5
}
